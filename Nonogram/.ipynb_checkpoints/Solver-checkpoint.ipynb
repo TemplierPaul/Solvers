{
 "cells": [
  {
   "cell_type": "code",
   "execution_count": 1,
   "id": "4fd6ef84",
   "metadata": {},
   "outputs": [],
   "source": [
    "import numpy as np\n",
    "import matplotlib.pyplot as plt\n",
    "%matplotlib inline"
   ]
  },
  {
   "cell_type": "code",
   "execution_count": 2,
   "id": "a2741d17",
   "metadata": {},
   "outputs": [],
   "source": [
    "size = 5\n",
    "rows = [\n",
    "    [3],\n",
    "    [3],\n",
    "    [4],\n",
    "    [5],\n",
    "    [3]\n",
    "]\n",
    "columns = [\n",
    "    [1],\n",
    "    [3],\n",
    "    [5],\n",
    "    [5],\n",
    "    [4]\n",
    "]"
   ]
  },
  {
   "cell_type": "code",
   "execution_count": 3,
   "id": "0f5c3094",
   "metadata": {},
   "outputs": [
    {
     "data": {
      "text/plain": [
       "array([[1. , 1. , 1. , 1. , 0. ],\n",
       "       [0. , 0.5, 0.5, 0. , 0. ],\n",
       "       [0. , 0. , 1. , 0.5, 0.5],\n",
       "       [1. , 1. , 0.5, 0.5, 0. ],\n",
       "       [0.5, 0.5, 0. , 0. , 0. ]])"
      ]
     },
     "execution_count": 3,
     "metadata": {},
     "output_type": "execute_result"
    }
   ],
   "source": [
    "instance = np.ones((size, size))*0.5\n",
    "instance = np.random.choice([0, 0.5, 1], (size, size))\n",
    "instance"
   ]
  },
  {
   "cell_type": "code",
   "execution_count": 4,
   "id": "7020c453",
   "metadata": {},
   "outputs": [
    {
     "name": "stdout",
     "output_type": "stream",
     "text": [
      "X X X X . \n",
      ".     . . \n",
      ". . X     \n",
      "X X     . \n",
      "    . . . \n"
     ]
    }
   ],
   "source": [
    "def plot(grid):\n",
    "    size = grid.shape[0]\n",
    "    for i in range(size):\n",
    "        for j in range(size):\n",
    "            v = grid[i, j]\n",
    "            if v <= 0.01:\n",
    "                print(\".\", end=\" \")\n",
    "            elif v >= 0.99:\n",
    "                print(\"X\", end=\" \")\n",
    "            else:\n",
    "                print(\" \", end=\" \")\n",
    "                \n",
    "        print(\"\")\n",
    "    \n",
    "plot(instance)"
   ]
  },
  {
   "cell_type": "code",
   "execution_count": 5,
   "id": "55edd339",
   "metadata": {},
   "outputs": [
    {
     "data": {
      "text/plain": [
       "array([1. , 1. , 1. , 1. , 0. , 0. , 0.5, 0.5, 0. , 0. , 0. , 0. , 1. ,\n",
       "       0.5, 0.5, 1. , 1. , 0.5, 0.5, 0. , 0.5, 0.5, 0. , 0. , 0. ])"
      ]
     },
     "execution_count": 5,
     "metadata": {},
     "output_type": "execute_result"
    }
   ],
   "source": [
    "flat = instance.reshape(-1)\n",
    "flat"
   ]
  },
  {
   "cell_type": "code",
   "execution_count": 6,
   "id": "ee5915da",
   "metadata": {},
   "outputs": [
    {
     "data": {
      "text/plain": [
       "array([[1. , 1. , 1. , 1. , 0. ],\n",
       "       [0. , 0.5, 0.5, 0. , 0. ],\n",
       "       [0. , 0. , 1. , 0.5, 0.5],\n",
       "       [1. , 1. , 0.5, 0.5, 0. ],\n",
       "       [0.5, 0.5, 0. , 0. , 0. ]])"
      ]
     },
     "execution_count": 6,
     "metadata": {},
     "output_type": "execute_result"
    }
   ],
   "source": [
    "flat.reshape((size, size))"
   ]
  },
  {
   "cell_type": "code",
   "execution_count": 7,
   "id": "84b20798",
   "metadata": {},
   "outputs": [],
   "source": [
    "def append(l, r):\n",
    "    if isinstance(r[0], list):\n",
    "        return [append(l, i) for i in r]\n",
    "    return [l] + r\n",
    "\n",
    "def split(k, n):\n",
    "    if k == 0:\n",
    "        return [[0 for _ in range(n)]]\n",
    "    if n == 1:\n",
    "        return [[k]]\n",
    "    L = []\n",
    "    for left in range(k+1):\n",
    "        right = split(k-left, n-1)\n",
    "        for i in right:\n",
    "            L.append(append(left, i))\n",
    "    return L\n",
    "\n",
    "def merge(a, b):\n",
    "    # Assert a is the longest\n",
    "    if len(b) > len(a):\n",
    "        a, b = b, a\n",
    "    L = []\n",
    "    for i in range(len(b)):\n",
    "        L.append(a[i])\n",
    "        L.append(b[i])\n",
    "    L.append(a[-1])\n",
    "    return L"
   ]
  },
  {
   "cell_type": "code",
   "execution_count": 19,
   "id": "bc938ece",
   "metadata": {},
   "outputs": [],
   "source": [
    "def toarray(s):\n",
    "    return np.array([int(k) for k in s])"
   ]
  },
  {
   "cell_type": "code",
   "execution_count": 78,
   "id": "673bc606",
   "metadata": {},
   "outputs": [],
   "source": [
    "def possibilities(size, cons):\n",
    "    l = ['1'*i for i in cons]\n",
    "    s = \"0\".join(l)\n",
    "    n_missing = size - len(s)\n",
    "    if n_missing == 0:\n",
    "        return [s]\n",
    "    n_inter = len(l) + 1\n",
    "    filling = split(n_missing, n_inter)\n",
    "    L = []\n",
    "    for k in filling:\n",
    "        k = [\"0\"*i for i in k]\n",
    "        sol = \"\".join(merge(l, k))\n",
    "        L.append(sol)\n",
    "    return L\n",
    "\n",
    "def get_pos(size, cons):\n",
    "    return [toarray(sol) for sol in possibilities(size, cons)]"
   ]
  },
  {
   "cell_type": "code",
   "execution_count": 79,
   "id": "ffe94ca7",
   "metadata": {},
   "outputs": [],
   "source": [
    "def apply_filter(L, val):\n",
    "    val = np.array(val)\n",
    "    undecided = (val != 0) * (val != 1)\n",
    "    filtered_L = []\n",
    "    for l in L:\n",
    "        f = (val == l) + undecided\n",
    "        if np.all(f):\n",
    "            filtered_L.append(l)\n",
    "    return filtered_L"
   ]
  },
  {
   "cell_type": "code",
   "execution_count": 80,
   "id": "5cb44e69",
   "metadata": {},
   "outputs": [],
   "source": [
    "def get_probas(l):\n",
    "    L = np.array([toarray(i) for i in l])\n",
    "    p = np.mean(L, axis=0)\n",
    "    return p"
   ]
  },
  {
   "cell_type": "code",
   "execution_count": 81,
   "id": "8d8d3a1a",
   "metadata": {},
   "outputs": [
    {
     "data": {
      "text/plain": [
       "array([0.33333333, 0.66666667, 1.        , 0.66666667, 0.33333333])"
      ]
     },
     "execution_count": 81,
     "metadata": {},
     "output_type": "execute_result"
    }
   ],
   "source": [
    "pos = get_pos(5, [3])\n",
    "val = [0.3, 0.4, 0.3, 0.2, 0.1]\n",
    "avail_pos = apply_filter(pos, val)\n",
    "get_probas(avail_pos)"
   ]
  },
  {
   "cell_type": "code",
   "execution_count": 104,
   "id": "31080efb",
   "metadata": {},
   "outputs": [],
   "source": [
    "size = 5\n",
    "rows = [\n",
    "    [3],\n",
    "    [3],\n",
    "    [4],\n",
    "    [5],\n",
    "    [3]\n",
    "]\n",
    "columns = [\n",
    "    [1],\n",
    "    [3],\n",
    "    [5],\n",
    "    [5],\n",
    "    [4]\n",
    "]"
   ]
  },
  {
   "cell_type": "code",
   "execution_count": 111,
   "id": "36c22f08",
   "metadata": {},
   "outputs": [],
   "source": [
    "def step(grid, rows, columns):\n",
    "    size = len(rows)\n",
    "    # Rows\n",
    "    for i in range(size):\n",
    "        val = grid[i, :]\n",
    "        c = rows[i]\n",
    "        pos = get_pos(size, c)\n",
    "        avail_pos = apply_filter(pos, val)\n",
    "        grid[i, :] = get_probas(avail_pos)\n",
    "    \n",
    "    # Columns\n",
    "    for i in range(size):\n",
    "        val = grid[:, i]\n",
    "        c = columns[i]\n",
    "        pos = get_pos(size, c)\n",
    "        avail_pos = apply_filter(pos, val)\n",
    "        grid[:, i] = get_probas(avail_pos)\n",
    "    \n",
    "    return grid"
   ]
  },
  {
   "cell_type": "code",
   "execution_count": 117,
   "id": "5256641e",
   "metadata": {},
   "outputs": [
    {
     "name": "stdout",
     "output_type": "stream",
     "text": [
      "Found in 2 steps\n",
      ". . X X X \n",
      ". . X X X \n",
      ". X X X X \n",
      "X X X X X \n",
      ". X X X . \n"
     ]
    }
   ],
   "source": [
    "grid = np.ones((size, size))*0.5\n",
    "\n",
    "n_steps = 0 \n",
    "while not np.all((grid == 0) + (grid == 1)):\n",
    "    grid = step(grid, rows, columns)\n",
    "    n_steps += 1\n",
    "    \n",
    "print(f\"Found in {n_steps} steps\")\n",
    "plot(grid)"
   ]
  },
  {
   "cell_type": "code",
   "execution_count": 1,
   "id": "b41030ab",
   "metadata": {},
   "outputs": [
    {
     "name": "stdout",
     "output_type": "stream",
     "text": [
      "Size 5\n",
      "\n",
      "Rows\n",
      "\n",
      "3\n",
      "\n",
      "3\n",
      "\n",
      "4\n",
      "\n",
      "5\n",
      "\n",
      "3\n",
      "\n",
      "Columns\n",
      "\n",
      "1\n",
      "\n",
      "3\n",
      "\n",
      "5\n",
      "\n",
      "5\n",
      "\n",
      "4\n"
     ]
    }
   ],
   "source": [
    "def read_config(path):\n",
    "    file = open(path, 'r')\n",
    "    Lines = file.readlines()\n",
    "    for l in Lines:\n",
    "        print(l)\n",
    "\n",
    "read_config(\"grid_5.txt\")"
   ]
  }
 ],
 "metadata": {
  "kernelspec": {
   "display_name": "Python 3",
   "language": "python",
   "name": "python3"
  },
  "language_info": {
   "codemirror_mode": {
    "name": "ipython",
    "version": 3
   },
   "file_extension": ".py",
   "mimetype": "text/x-python",
   "name": "python",
   "nbconvert_exporter": "python",
   "pygments_lexer": "ipython3",
   "version": "3.8.2"
  }
 },
 "nbformat": 4,
 "nbformat_minor": 5
}
