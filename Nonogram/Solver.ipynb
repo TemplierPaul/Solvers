{
 "cells": [
  {
   "cell_type": "code",
   "execution_count": 1,
   "id": "4fd6ef84",
   "metadata": {},
   "outputs": [],
   "source": [
    "import numpy as np\n",
    "import matplotlib.pyplot as plt\n",
    "%matplotlib inline"
   ]
  },
  {
   "cell_type": "code",
   "execution_count": 2,
   "id": "7020c453",
   "metadata": {},
   "outputs": [],
   "source": [
    "def plot(grid):\n",
    "    size = grid.shape[0]\n",
    "    for i in range(size):\n",
    "        for j in range(size):\n",
    "            v = grid[i, j]\n",
    "            if v <= 0.01:\n",
    "                print(\".\", end=\" \")\n",
    "            elif v >= 0.99:\n",
    "                print(\"X\", end=\" \")\n",
    "            else:\n",
    "                print(\" \", end=\" \")\n",
    "                \n",
    "        print(\"\")"
   ]
  },
  {
   "cell_type": "code",
   "execution_count": 3,
   "id": "84b20798",
   "metadata": {},
   "outputs": [],
   "source": [
    "def append(l, r):\n",
    "    if isinstance(r[0], list):\n",
    "        return [append(l, i) for i in r]\n",
    "    return [l] + r\n",
    "\n",
    "def split(k, n):\n",
    "    if k == 0:\n",
    "        return [[0 for _ in range(n)]]\n",
    "    if n == 1:\n",
    "        return [[k]]\n",
    "    L = []\n",
    "    for left in range(k+1):\n",
    "        right = split(k-left, n-1)\n",
    "        for i in right:\n",
    "            L.append(append(left, i))\n",
    "    return L\n",
    "\n",
    "def merge(a, b):\n",
    "    # Assert a is the longest\n",
    "    if len(b) > len(a):\n",
    "        a, b = b, a\n",
    "    L = []\n",
    "    for i in range(len(b)):\n",
    "        L.append(a[i])\n",
    "        L.append(b[i])\n",
    "    L.append(a[-1])\n",
    "    return L"
   ]
  },
  {
   "cell_type": "code",
   "execution_count": 4,
   "id": "bc938ece",
   "metadata": {},
   "outputs": [],
   "source": [
    "def toarray(s):\n",
    "    return np.array([int(k) for k in s])"
   ]
  },
  {
   "cell_type": "code",
   "execution_count": 5,
   "id": "673bc606",
   "metadata": {},
   "outputs": [],
   "source": [
    "def possibilities(size, cons):\n",
    "    l = ['1'*i for i in cons]\n",
    "    s = \"0\".join(l)\n",
    "    n_missing = size - len(s)\n",
    "    if n_missing == 0:\n",
    "        return [s]\n",
    "    n_inter = len(l) + 1\n",
    "    filling = split(n_missing, n_inter)\n",
    "    L = []\n",
    "    for i in range(len(l)-1):\n",
    "        l[i]=l[i]+\"0\"\n",
    "    for k in filling:\n",
    "        k = [\"0\"*i for i in k]\n",
    "        sol = \"\".join(merge(l, k))\n",
    "        L.append(sol)\n",
    "    return L\n",
    "\n",
    "def get_pos(size, cons):\n",
    "    return [toarray(sol) for sol in possibilities(size, cons)]"
   ]
  },
  {
   "cell_type": "code",
   "execution_count": 6,
   "id": "f43c7b7b",
   "metadata": {},
   "outputs": [
    {
     "name": "stdout",
     "output_type": "stream",
     "text": [
      "1110111100\n",
      "10\n",
      "1110011110\n",
      "10\n",
      "1110001111\n",
      "10\n",
      "0111011110\n",
      "10\n",
      "0111001111\n",
      "10\n",
      "0011101111\n",
      "10\n"
     ]
    }
   ],
   "source": [
    "for i in possibilities(10, [3, 4]):\n",
    "    print(i)\n",
    "    print(len(i))"
   ]
  },
  {
   "cell_type": "code",
   "execution_count": 7,
   "id": "ffe94ca7",
   "metadata": {},
   "outputs": [],
   "source": [
    "def apply_filter(L, val):\n",
    "    val = np.array(val)\n",
    "    undecided = (val != 0) * (val != 1)\n",
    "    filtered_L = []\n",
    "    for l in L:\n",
    "        f = (val == l) + undecided\n",
    "        if np.all(f):\n",
    "            filtered_L.append(l)\n",
    "    return filtered_L"
   ]
  },
  {
   "cell_type": "code",
   "execution_count": 8,
   "id": "5cb44e69",
   "metadata": {},
   "outputs": [],
   "source": [
    "def get_probas(l):\n",
    "    L = np.array([toarray(i) for i in l])\n",
    "    p = np.mean(L, axis=0)\n",
    "    return p"
   ]
  },
  {
   "cell_type": "code",
   "execution_count": 9,
   "id": "36c22f08",
   "metadata": {},
   "outputs": [],
   "source": [
    "def step(grid, rows, columns):\n",
    "    size = len(rows)\n",
    "    # Rows\n",
    "    for i in range(size):\n",
    "        val = grid[i, :]\n",
    "        c = rows[i]\n",
    "        pos = get_pos(size, c)\n",
    "        avail_pos = apply_filter(pos, val)\n",
    "        grid[i, :] = get_probas(avail_pos)\n",
    "    \n",
    "    # Columns\n",
    "    for i in range(size):\n",
    "        val = grid[:, i]\n",
    "        c = columns[i]\n",
    "        pos = get_pos(size, c)\n",
    "        avail_pos = apply_filter(pos, val)\n",
    "        grid[:, i] = get_probas(avail_pos)\n",
    "    \n",
    "    return grid"
   ]
  },
  {
   "cell_type": "code",
   "execution_count": 10,
   "id": "5256641e",
   "metadata": {},
   "outputs": [],
   "source": [
    "def solve(cfg, max_steps=10):\n",
    "    size = cfg[\"size\"]\n",
    "    grid = np.ones((size, size))*0.5\n",
    "\n",
    "    n_steps = 0 \n",
    "    while not np.all((grid == 0) + (grid == 1)):\n",
    "        n_steps += 1\n",
    "        if n_steps > max_steps:\n",
    "            print(\"Max steps reached\")\n",
    "            return grid\n",
    "        grid = step(grid, cfg[\"rows\"], cfg[\"columns\"])\n",
    "\n",
    "    print(f\"Found in {n_steps} steps\")\n",
    "    return grid"
   ]
  },
  {
   "cell_type": "code",
   "execution_count": 11,
   "id": "b41030ab",
   "metadata": {},
   "outputs": [],
   "source": [
    "def read_config(path):\n",
    "    file = open(path, 'r')\n",
    "    Lines = file.readlines()\n",
    "    size = int(Lines[0].replace(\"\\n\", \"\").replace(\"Size \", \"\"))\n",
    "    config = {\n",
    "        \"size\":size,\n",
    "        \"rows\":[],\n",
    "        \"columns\":[]\n",
    "    }\n",
    "    cat = \"\"\n",
    "    for l in Lines:\n",
    "        if \"rows\" in l.lower():\n",
    "            cat = \"rows\"\n",
    "        elif \"columns\" in l.lower():\n",
    "            cat = \"columns\"\n",
    "        else:\n",
    "            if \",\" in l:\n",
    "                v = [int(i) for i in l.split(\",\")]\n",
    "                assert sum(v) + len(v)-1 <= size, \"Impossible constraints\"\n",
    "                config[cat].append(v)\n",
    "            else:\n",
    "                try:\n",
    "                    v = int(l)\n",
    "                    assert v <= size, \"Impossible constraints\"\n",
    "                    config[cat].append([v])\n",
    "                except:\n",
    "                    continue\n",
    "    assert len(config[\"rows\"]) == config[\"size\"], \"Not enough rows\"\n",
    "    assert len(config[\"columns\"]) == config[\"size\"], \"Not enough columns\"\n",
    "    return config"
   ]
  },
  {
   "cell_type": "code",
   "execution_count": 12,
   "id": "1279d611",
   "metadata": {},
   "outputs": [
    {
     "data": {
      "text/plain": [
       "array([[0.125     , 0.        , 1.        , 1.        , 1.        ,\n",
       "        0.5       , 0.5       , 0.        , 0.5       , 0.        ],\n",
       "       [0.125     , 0.        , 1.        , 1.        , 1.        ,\n",
       "        1.        , 1.        , 1.        , 1.        , 0.44444444],\n",
       "       [0.5       , 0.5       , 1.        , 1.        , 1.        ,\n",
       "        0.5       , 1.        , 1.        , 0.5       , 0.77777778],\n",
       "       [1.        , 1.        , 1.        , 1.        , 1.        ,\n",
       "        0.        , 1.        , 1.        , 0.        , 1.        ],\n",
       "       [0.5       , 1.        , 0.        , 0.        , 0.        ,\n",
       "        0.5       , 1.        , 1.        , 1.        , 0.55555556],\n",
       "       [0.125     , 1.        , 1.        , 1.        , 1.        ,\n",
       "        1.        , 1.        , 1.        , 1.        , 0.33333333],\n",
       "       [0.375     , 1.        , 0.        , 0.        , 0.        ,\n",
       "        0.5       , 0.5       , 1.        , 1.        , 0.33333333],\n",
       "       [0.5       , 1.        , 0.        , 0.        , 0.        ,\n",
       "        0.        , 0.        , 1.        , 1.        , 0.55555556],\n",
       "       [0.5       , 1.        , 1.        , 0.        , 0.        ,\n",
       "        1.        , 1.        , 1.        , 1.        , 0.66666667],\n",
       "       [0.25      , 0.5       , 1.        , 1.        , 1.        ,\n",
       "        1.        , 1.        , 1.        , 1.        , 0.33333333]])"
      ]
     },
     "execution_count": 12,
     "metadata": {},
     "output_type": "execute_result"
    }
   ],
   "source": [
    "cfg = read_config(\"grid_10.txt\")\n",
    "size = cfg[\"size\"]\n",
    "grid = np.ones((size, size))*0.5\n",
    "step(grid, cfg[\"rows\"], cfg[\"columns\"])"
   ]
  },
  {
   "cell_type": "code",
   "execution_count": 13,
   "id": "c6d473f6",
   "metadata": {},
   "outputs": [
    {
     "name": "stdout",
     "output_type": "stream",
     "text": [
      "{'size': 10, 'rows': [[4], [7], [3, 4], [5, 2, 1], [2, 4], [8], [1, 4], [2, 3], [3, 5], [8]], 'columns': [[2, 2], [7], [4, 1, 2], [4, 1, 1], [4, 1, 1], [2, 2, 2], [6, 2], [9], [2, 6], [3, 2]]}\n",
      "Found in 3 steps\n",
      ". . X X X X . . . . \n",
      ". . X X X X X X X . \n",
      ". . X X X . X X X X \n",
      "X X X X X . X X . X \n",
      "X X . . . . X X X X \n",
      ". X X X X X X X X . \n",
      ". X . . . X X X X . \n",
      "X X . . . . . X X X \n",
      "X X X . . X X X X X \n",
      ". X X X X X X X X . \n"
     ]
    }
   ],
   "source": [
    "cfg = read_config(\"grid_10.txt\")\n",
    "print(cfg)\n",
    "grid = solve(cfg)\n",
    "plot(grid)"
   ]
  },
  {
   "cell_type": "code",
   "execution_count": 20,
   "id": "238eb503",
   "metadata": {},
   "outputs": [
    {
     "name": "stdout",
     "output_type": "stream",
     "text": [
      "{'size': 15, 'rows': [[11], [4, 3, 3], [1, 7, 1], [11], [3, 4], [14], [2, 6], [2, 4, 5], [2, 5, 5], [4, 2, 3], [3, 2, 5], [4, 2, 3, 1], [13], [3, 4], [9]], 'columns': [[2, 6], [1, 9], [2, 3, 5], [2, 3, 2, 4], [1, 2, 1, 2, 3], [1, 2, 1, 2, 3, 1], [4, 1, 2, 3, 1], [4, 1, 3, 1, 1], [4, 1, 2, 1, 1], [1, 2, 2, 5], [1, 7, 5], [1, 12], [2, 8, 2], [1, 6, 2], [2, 4, 1]]}\n",
      "Found in 3 steps\n",
      ". . X X X X X X X X X X X . . \n",
      "X X X X . . X X X . . . X X X \n",
      "X . . . X X X X X X X . . . X \n",
      ". . X X X X X X X X X X X . . \n",
      ". X X X . . . . . . X X X X . \n",
      ". X X X X X X X X X X X X X X \n",
      "X X . . . . . . . X X X X X X \n",
      "X X . . X X X X . . X X X X X \n",
      "X X . X X X X X . . X X X X X \n",
      "X X X X . . . X X . . X X X . \n",
      "X X X . . X X . X X X X X . . \n",
      "X X X X . X X . . X X X . X X \n",
      ". X X X X X X X X X X X X X . \n",
      ". . X X X . . . . X X X X . . \n",
      ". . . X X X X X X X X X . . . \n"
     ]
    }
   ],
   "source": [
    "cfg = read_config(\"grid_15.txt\")\n",
    "print(cfg)\n",
    "grid = solve(cfg)\n",
    "plot(grid)"
   ]
  },
  {
   "cell_type": "code",
   "execution_count": 21,
   "id": "403e664e",
   "metadata": {},
   "outputs": [],
   "source": [
    "v = []"
   ]
  },
  {
   "cell_type": "code",
   "execution_count": 22,
   "id": "d1203654",
   "metadata": {},
   "outputs": [],
   "source": [
    "v[0]=\"0000001001110\"\n",
    "v[1]=\"0000011101010\"\n",
    "v[2]=\"0000111111010\"\n",
    "v[3]=\"0001111111110\"\n",
    "v[4]=\"0111111111110\"\n",
    "v[5]=\"1111111111111\"\n",
    "v[6]=\"0100000000010\"\n",
    "v[7]=\"0101110000010\"\n",
    "v[8]=\"0101010011110\"\n",
    "v[9]=\"0101110010010\"\n",
    "v[10]=\"0100000010110\"\n",
    "v[11]=\"0100000010010\"\n",
    "v[12]=\"0100000010010\"\n",
    "v[13]=\"0111111111110\""
   ]
  },
  {
   "cell_type": "code",
   "execution_count": 23,
   "id": "a9bb3c8b",
   "metadata": {},
   "outputs": [
    {
     "data": {
      "text/plain": [
       "array([1.00111000e+06, 1.11010100e+07, 1.11111010e+08, 1.11111111e+09,\n",
       "       1.11111111e+11, 1.11111111e+12, 1.00000000e+11, 1.01110000e+11,\n",
       "       1.01010011e+11, 1.01110010e+11, 1.00000010e+11, 1.00000010e+11,\n",
       "       1.00000010e+11, 1.11111111e+11])"
      ]
     },
     "execution_count": 23,
     "metadata": {},
     "output_type": "execute_result"
    }
   ],
   "source": [
    "v"
   ]
  },
  {
   "cell_type": "code",
   "execution_count": 15,
   "id": "b1a99025",
   "metadata": {},
   "outputs": [],
   "source": [
    "import pandas as pd\n",
    "import requests\n",
    "from bs4 import BeautifulSoup"
   ]
  },
  {
   "cell_type": "code",
   "execution_count": 16,
   "id": "87c9df94",
   "metadata": {},
   "outputs": [],
   "source": [
    "url = \"https://fr.goobix.com/jeux-en-ligne/nonograms/?s=25\""
   ]
  },
  {
   "cell_type": "code",
   "execution_count": 17,
   "id": "5190c4b7",
   "metadata": {},
   "outputs": [],
   "source": [
    "html = requests.get(url).text"
   ]
  },
  {
   "cell_type": "code",
   "execution_count": 18,
   "id": "32d23267",
   "metadata": {},
   "outputs": [],
   "source": [
    "s = html.split(\"nonogramsDef\")[1]"
   ]
  },
  {
   "cell_type": "code",
   "execution_count": 19,
   "id": "56ab3e72",
   "metadata": {},
   "outputs": [],
   "source": [
    "l = s.split(\"<strong>\")"
   ]
  },
  {
   "cell_type": "code",
   "execution_count": null,
   "id": "791a2eb4",
   "metadata": {},
   "outputs": [],
   "source": []
  }
 ],
 "metadata": {
  "kernelspec": {
   "display_name": "Python 3",
   "language": "python",
   "name": "python3"
  },
  "language_info": {
   "codemirror_mode": {
    "name": "ipython",
    "version": 3
   },
   "file_extension": ".py",
   "mimetype": "text/x-python",
   "name": "python",
   "nbconvert_exporter": "python",
   "pygments_lexer": "ipython3",
   "version": "3.8.2"
  }
 },
 "nbformat": 4,
 "nbformat_minor": 5
}
