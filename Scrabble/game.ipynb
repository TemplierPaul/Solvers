{
 "cells": [
  {
   "cell_type": "code",
   "execution_count": 1,
   "metadata": {},
   "outputs": [],
   "source": [
    "from solver import *"
   ]
  },
  {
   "cell_type": "code",
   "execution_count": 2,
   "metadata": {},
   "outputs": [],
   "source": [
    "b = Board()"
   ]
  },
  {
   "cell_type": "code",
   "execution_count": 3,
   "metadata": {},
   "outputs": [
    {
     "name": "stdout",
     "output_type": "stream",
     "text": [
      "Horizontal 7 3\n",
      "Score: 14\n"
     ]
    },
    {
     "data": {
      "text/plain": [
       "    1 | 2 | 3 | 4 | 5 | 6 | 7 | 8 | 9 |10 |11 |12 |13 |14 |15 \n",
       "A >   |   |   |   |   |   |   |   |   |   |   |   |   |   |   <\n",
       "B >   |   |   |   |   |   |   |   |   |   |   |   |   |   |   <\n",
       "C >   |   |   |   |   |   |   |   |   |   |   |   |   |   |   <\n",
       "D >   |   |   |   |   |   |   |   |   |   |   |   |   |   |   <\n",
       "E >   |   |   |   |   |   |   |   |   |   |   |   |   |   |   <\n",
       "F >   |   |   |   |   |   |   |   |   |   |   |   |   |   |   <\n",
       "G >   |   |   |   |   |   |   |   |   |   |   |   |   |   |   <\n",
       "H >   |   |   | A | O | U | T | E | S |   |   |   |   |   |   <\n",
       "I >   |   |   |   |   |   |   |   |   |   |   |   |   |   |   <\n",
       "J >   |   |   |   |   |   |   |   |   |   |   |   |   |   |   <\n",
       "K >   |   |   |   |   |   |   |   |   |   |   |   |   |   |   <\n",
       "L >   |   |   |   |   |   |   |   |   |   |   |   |   |   |   <\n",
       "M >   |   |   |   |   |   |   |   |   |   |   |   |   |   |   <\n",
       "N >   |   |   |   |   |   |   |   |   |   |   |   |   |   |   <\n",
       "O >   |   |   |   |   |   |   |   |   |   |   |   |   |   |   <"
      ]
     },
     "execution_count": 3,
     "metadata": {},
     "output_type": "execute_result"
    }
   ],
   "source": [
    "# Maman\n",
    "b(\"h4\", \"aoutes\")\n",
    "b"
   ]
  },
  {
   "cell_type": "code",
   "execution_count": 4,
   "metadata": {},
   "outputs": [
    {
     "data": {
      "text/plain": [
       "[ostrya: 30 (4C),\n",
       " oriyas: 30 (4D),\n",
       " oriya: 28 (4D),\n",
       " torys: 28 (5G),\n",
       " torys: 24 (9D),\n",
       " roissy: 17 (9E),\n",
       " rotarys: 16 (4E),\n",
       " rotary: 15 (4E),\n",
       " torys: 15 (7H),\n",
       " syrie: 15 (8D)]"
      ]
     },
     "execution_count": 4,
     "metadata": {},
     "output_type": "execute_result"
    }
   ],
   "source": [
    "letters = \"tosrriy\"\n",
    "sol = b.solve(letters)\n",
    "sol[:10]"
   ]
  },
  {
   "cell_type": "code",
   "execution_count": 4,
   "metadata": {},
   "outputs": [
    {
     "name": "stdout",
     "output_type": "stream",
     "text": [
      "Vertical 3 3\n",
      "Score: 30\n"
     ]
    },
    {
     "data": {
      "text/plain": [
       "    1 | 2 | 3 | 4 | 5 | 6 | 7 | 8 | 9 |10 |11 |12 |13 |14 |15 \n",
       "A >   |   |   |   |   |   |   |   |   |   |   |   |   |   |   <\n",
       "B >   |   |   |   |   |   |   |   |   |   |   |   |   |   |   <\n",
       "C >   |   |   |   |   |   |   |   |   |   |   |   |   |   |   <\n",
       "D >   |   |   | O |   |   |   |   |   |   |   |   |   |   |   <\n",
       "E >   |   |   | R |   |   |   |   |   |   |   |   |   |   |   <\n",
       "F >   |   |   | I |   |   |   |   |   |   |   |   |   |   |   <\n",
       "G >   |   |   | Y |   |   |   |   |   |   |   |   |   |   |   <\n",
       "H >   |   |   | A | O | U | T | E | S |   |   |   |   |   |   <\n",
       "I >   |   |   | S |   |   |   |   |   |   |   |   |   |   |   <\n",
       "J >   |   |   |   |   |   |   |   |   |   |   |   |   |   |   <\n",
       "K >   |   |   |   |   |   |   |   |   |   |   |   |   |   |   <\n",
       "L >   |   |   |   |   |   |   |   |   |   |   |   |   |   |   <\n",
       "M >   |   |   |   |   |   |   |   |   |   |   |   |   |   |   <\n",
       "N >   |   |   |   |   |   |   |   |   |   |   |   |   |   |   <\n",
       "O >   |   |   |   |   |   |   |   |   |   |   |   |   |   |   <"
      ]
     },
     "execution_count": 4,
     "metadata": {},
     "output_type": "execute_result"
    }
   ],
   "source": [
    "# Moi\n",
    "b(\"4D\", \"oriyas\")\n",
    "b"
   ]
  },
  {
   "cell_type": "code",
   "execution_count": 5,
   "metadata": {},
   "outputs": [
    {
     "name": "stdout",
     "output_type": "stream",
     "text": [
      "Vertical 0 8\n",
      "Score: 62\n"
     ]
    },
    {
     "data": {
      "text/plain": [
       "    1 | 2 | 3 | 4 | 5 | 6 | 7 | 8 | 9 |10 |11 |12 |13 |14 |15 \n",
       "A >   |   |   |   |   |   |   |   | D |   |   |   |   |   |   <\n",
       "B >   |   |   |   |   |   |   |   | E |   |   |   |   |   |   <\n",
       "C >   |   |   |   |   |   |   |   | L |   |   |   |   |   |   <\n",
       "D >   |   |   | O |   |   |   |   | O |   |   |   |   |   |   <\n",
       "E >   |   |   | R |   |   |   |   | G |   |   |   |   |   |   <\n",
       "F >   |   |   | I |   |   |   |   | E |   |   |   |   |   |   <\n",
       "G >   |   |   | Y |   |   |   |   | A |   |   |   |   |   |   <\n",
       "H >   |   |   | A | O | U | T | E | S |   |   |   |   |   |   <\n",
       "I >   |   |   | S |   |   |   |   |   |   |   |   |   |   |   <\n",
       "J >   |   |   |   |   |   |   |   |   |   |   |   |   |   |   <\n",
       "K >   |   |   |   |   |   |   |   |   |   |   |   |   |   |   <\n",
       "L >   |   |   |   |   |   |   |   |   |   |   |   |   |   |   <\n",
       "M >   |   |   |   |   |   |   |   |   |   |   |   |   |   |   <\n",
       "N >   |   |   |   |   |   |   |   |   |   |   |   |   |   |   <\n",
       "O >   |   |   |   |   |   |   |   |   |   |   |   |   |   |   <"
      ]
     },
     "execution_count": 5,
     "metadata": {},
     "output_type": "execute_result"
    }
   ],
   "source": [
    "# Maman\n",
    "b(\"9A\", \"delogeas\")\n",
    "b"
   ]
  },
  {
   "cell_type": "code",
   "execution_count": 7,
   "metadata": {},
   "outputs": [
    {
     "data": {
      "text/html": [
       "<div>\n",
       "<style scoped>\n",
       "    .dataframe tbody tr th:only-of-type {\n",
       "        vertical-align: middle;\n",
       "    }\n",
       "\n",
       "    .dataframe tbody tr th {\n",
       "        vertical-align: top;\n",
       "    }\n",
       "\n",
       "    .dataframe thead th {\n",
       "        text-align: right;\n",
       "    }\n",
       "</style>\n",
       "<table border=\"1\" class=\"dataframe\">\n",
       "  <thead>\n",
       "    <tr style=\"text-align: right;\">\n",
       "      <th></th>\n",
       "      <th>pos</th>\n",
       "      <th>word</th>\n",
       "      <th>score</th>\n",
       "    </tr>\n",
       "  </thead>\n",
       "  <tbody>\n",
       "    <tr>\n",
       "      <th>0</th>\n",
       "      <td>h4</td>\n",
       "      <td>aoutes</td>\n",
       "      <td>14</td>\n",
       "    </tr>\n",
       "    <tr>\n",
       "      <th>1</th>\n",
       "      <td>4d</td>\n",
       "      <td>oriyas</td>\n",
       "      <td>30</td>\n",
       "    </tr>\n",
       "    <tr>\n",
       "      <th>2</th>\n",
       "      <td>9a</td>\n",
       "      <td>delogeas</td>\n",
       "      <td>62</td>\n",
       "    </tr>\n",
       "  </tbody>\n",
       "</table>\n",
       "</div>"
      ],
      "text/plain": [
       "  pos      word  score\n",
       "0  h4    aoutes     14\n",
       "1  4d    oriyas     30\n",
       "2  9a  delogeas     62"
      ]
     },
     "execution_count": 7,
     "metadata": {},
     "output_type": "execute_result"
    }
   ],
   "source": [
    "pd.DataFrame(b.moves)"
   ]
  },
  {
   "cell_type": "code",
   "execution_count": 9,
   "metadata": {},
   "outputs": [
    {
     "data": {
      "text/plain": [
       "[tisserez: 39 (F3),\n",
       " striez: 37 (F1),\n",
       " triez: 36 (F2),\n",
       " riez: 33 (F3),\n",
       " ruez: 33 (6G),\n",
       " suez: 33 (6G),\n",
       " tuez: 33 (6G),\n",
       " rez: 32 (B8),\n",
       " sortez: 32 (D8),\n",
       " rossez: 32 (D8)]"
      ]
     },
     "execution_count": 9,
     "metadata": {},
     "output_type": "execute_result"
    }
   ],
   "source": [
    "letters = \"tterszs\"\n",
    "sol = b.solve(letters)\n",
    "sol[:10]"
   ]
  },
  {
   "cell_type": "code",
   "execution_count": 6,
   "metadata": {},
   "outputs": [
    {
     "name": "stdout",
     "output_type": "stream",
     "text": [
      "Horizontal 5 2\n"
     ]
    },
    {
     "data": {
      "text/plain": [
       "    1 | 2 | 3 | 4 | 5 | 6 | 7 | 8 | 9 |10 |11 |12 |13 |14 |15 \n",
       "A >   |   |   |   |   |   |   |   | D |   |   |   |   |   |   <\n",
       "B >   |   |   |   |   |   |   |   | E |   |   |   |   |   |   <\n",
       "C >   |   |   |   |   |   |   |   | L |   |   |   |   |   |   <\n",
       "D >   |   |   | O |   |   |   |   | O |   |   |   |   |   |   <\n",
       "E >   |   |   | R |   |   |   |   | G |   |   |   |   |   |   <\n",
       "F >   |   | T | I | S | S | E | R | E | Z |   |   |   |   |   <\n",
       "G >   |   |   | Y |   |   |   |   | A |   |   |   |   |   |   <\n",
       "H >   |   |   | A | O | U | T | E | S |   |   |   |   |   |   <\n",
       "I >   |   |   | S |   |   |   |   |   |   |   |   |   |   |   <\n",
       "J >   |   |   |   |   |   |   |   |   |   |   |   |   |   |   <\n",
       "K >   |   |   |   |   |   |   |   |   |   |   |   |   |   |   <\n",
       "L >   |   |   |   |   |   |   |   |   |   |   |   |   |   |   <\n",
       "M >   |   |   |   |   |   |   |   |   |   |   |   |   |   |   <\n",
       "N >   |   |   |   |   |   |   |   |   |   |   |   |   |   |   <\n",
       "O >   |   |   |   |   |   |   |   |   |   |   |   |   |   |   <"
      ]
     },
     "execution_count": 6,
     "metadata": {},
     "output_type": "execute_result"
    }
   ],
   "source": [
    "# Moi\n",
    "b(\"F3\", \"tisserez\")\n",
    "b"
   ]
  },
  {
   "cell_type": "code",
   "execution_count": 7,
   "metadata": {},
   "outputs": [
    {
     "name": "stdout",
     "output_type": "stream",
     "text": [
      "Vertical 2 2\n"
     ]
    },
    {
     "data": {
      "text/plain": [
       "    1 | 2 | 3 | 4 | 5 | 6 | 7 | 8 | 9 |10 |11 |12 |13 |14 |15 \n",
       "A >   |   |   |   |   |   |   |   | D |   |   |   |   |   |   <\n",
       "B >   |   |   |   |   |   |   |   | E |   |   |   |   |   |   <\n",
       "C >   |   | A |   |   |   |   |   | L |   |   |   |   |   |   <\n",
       "D >   |   | H | O |   |   |   |   | O |   |   |   |   |   |   <\n",
       "E >   |   |   | R |   |   |   |   | G |   |   |   |   |   |   <\n",
       "F >   |   | T | I | S | S | E | R | E | Z |   |   |   |   |   <\n",
       "G >   |   |   | Y |   |   |   |   | A |   |   |   |   |   |   <\n",
       "H >   |   |   | A | O | U | T | E | S |   |   |   |   |   |   <\n",
       "I >   |   |   | S |   |   |   |   |   |   |   |   |   |   |   <\n",
       "J >   |   |   |   |   |   |   |   |   |   |   |   |   |   |   <\n",
       "K >   |   |   |   |   |   |   |   |   |   |   |   |   |   |   <\n",
       "L >   |   |   |   |   |   |   |   |   |   |   |   |   |   |   <\n",
       "M >   |   |   |   |   |   |   |   |   |   |   |   |   |   |   <\n",
       "N >   |   |   |   |   |   |   |   |   |   |   |   |   |   |   <\n",
       "O >   |   |   |   |   |   |   |   |   |   |   |   |   |   |   <"
      ]
     },
     "execution_count": 7,
     "metadata": {},
     "output_type": "execute_result"
    }
   ],
   "source": [
    "# Maman\n",
    "b(\"3C\", \"ah\")\n",
    "b"
   ]
  },
  {
   "cell_type": "code",
   "execution_count": 13,
   "metadata": {},
   "outputs": [
    {
     "data": {
      "text/plain": [
       "[fastes: 68 (5A),\n",
       " faites: 68 (5A),\n",
       " fiates: 68 (5A),\n",
       " fetes: 64 (5B),\n",
       " fates: 64 (5B),\n",
       " fites: 64 (5B),\n",
       " fetas: 64 (5B),\n",
       " saites: 56 (5A),\n",
       " sites: 52 (5B),\n",
       " sates: 52 (5B)]"
      ]
     },
     "execution_count": 13,
     "metadata": {},
     "output_type": "execute_result"
    }
   ],
   "source": [
    "letters = \"taefeis\"\n",
    "sol = b.solve(letters)\n",
    "sol[:10]"
   ]
  },
  {
   "cell_type": "code",
   "execution_count": 8,
   "metadata": {},
   "outputs": [
    {
     "name": "stdout",
     "output_type": "stream",
     "text": [
      "Vertical 0 4\n"
     ]
    },
    {
     "data": {
      "text/plain": [
       "    1 | 2 | 3 | 4 | 5 | 6 | 7 | 8 | 9 |10 |11 |12 |13 |14 |15 \n",
       "A >   |   |   |   | F |   |   |   | D |   |   |   |   |   |   <\n",
       "B >   |   |   |   | A |   |   |   | E |   |   |   |   |   |   <\n",
       "C >   |   | A |   | S |   |   |   | L |   |   |   |   |   |   <\n",
       "D >   |   | H | O | T |   |   |   | O |   |   |   |   |   |   <\n",
       "E >   |   |   | R | E |   |   |   | G |   |   |   |   |   |   <\n",
       "F >   |   | T | I | S | S | E | R | E | Z |   |   |   |   |   <\n",
       "G >   |   |   | Y |   |   |   |   | A |   |   |   |   |   |   <\n",
       "H >   |   |   | A | O | U | T | E | S |   |   |   |   |   |   <\n",
       "I >   |   |   | S |   |   |   |   |   |   |   |   |   |   |   <\n",
       "J >   |   |   |   |   |   |   |   |   |   |   |   |   |   |   <\n",
       "K >   |   |   |   |   |   |   |   |   |   |   |   |   |   |   <\n",
       "L >   |   |   |   |   |   |   |   |   |   |   |   |   |   |   <\n",
       "M >   |   |   |   |   |   |   |   |   |   |   |   |   |   |   <\n",
       "N >   |   |   |   |   |   |   |   |   |   |   |   |   |   |   <\n",
       "O >   |   |   |   |   |   |   |   |   |   |   |   |   |   |   <"
      ]
     },
     "execution_count": 8,
     "metadata": {},
     "output_type": "execute_result"
    }
   ],
   "source": [
    "# Moi\n",
    "b(\"5A\", \"fastes\")\n",
    "b"
   ]
  },
  {
   "cell_type": "code",
   "execution_count": 9,
   "metadata": {},
   "outputs": [
    {
     "name": "stdout",
     "output_type": "stream",
     "text": [
      "Horizontal 1 7\n"
     ]
    },
    {
     "data": {
      "text/plain": [
       "    1 | 2 | 3 | 4 | 5 | 6 | 7 | 8 | 9 |10 |11 |12 |13 |14 |15 \n",
       "A >   |   |   |   | F |   |   |   | D |   |   |   |   |   |   <\n",
       "B >   |   |   |   | A |   |   | B | E | R | N | A | I | S |   <\n",
       "C >   |   | A |   | S |   |   |   | L |   |   |   |   |   |   <\n",
       "D >   |   | H | O | T |   |   |   | O |   |   |   |   |   |   <\n",
       "E >   |   |   | R | E |   |   |   | G |   |   |   |   |   |   <\n",
       "F >   |   | T | I | S | S | E | R | E | Z |   |   |   |   |   <\n",
       "G >   |   |   | Y |   |   |   |   | A |   |   |   |   |   |   <\n",
       "H >   |   |   | A | O | U | T | E | S |   |   |   |   |   |   <\n",
       "I >   |   |   | S |   |   |   |   |   |   |   |   |   |   |   <\n",
       "J >   |   |   |   |   |   |   |   |   |   |   |   |   |   |   <\n",
       "K >   |   |   |   |   |   |   |   |   |   |   |   |   |   |   <\n",
       "L >   |   |   |   |   |   |   |   |   |   |   |   |   |   |   <\n",
       "M >   |   |   |   |   |   |   |   |   |   |   |   |   |   |   <\n",
       "N >   |   |   |   |   |   |   |   |   |   |   |   |   |   |   <\n",
       "O >   |   |   |   |   |   |   |   |   |   |   |   |   |   |   <"
      ]
     },
     "execution_count": 9,
     "metadata": {},
     "output_type": "execute_result"
    }
   ],
   "source": [
    "# Maman\n",
    "b(\"B8\", \"bernais\")\n",
    "b"
   ]
  },
  {
   "cell_type": "code",
   "execution_count": 10,
   "metadata": {},
   "outputs": [
    {
     "data": {
      "text/plain": [
       "[sphex: 39 (14B),\n",
       " paix: 36 (12A),\n",
       " aieux: 35 (G9),\n",
       " max: 33 (B4),\n",
       " maxi: 32 (12A),\n",
       " maux: 32 (12A),\n",
       " pieux: 32 (13A),\n",
       " oxime: 30 (D9),\n",
       " hampe: 30 (12A),\n",
       " apex: 30 (12B)]"
      ]
     },
     "execution_count": 10,
     "metadata": {},
     "output_type": "execute_result"
    }
   ],
   "source": [
    "letters = \"hxpeimu\"\n",
    "sol = b.solve(letters)\n",
    "sol[:10]"
   ]
  },
  {
   "cell_type": "code",
   "execution_count": 10,
   "metadata": {},
   "outputs": [
    {
     "name": "stdout",
     "output_type": "stream",
     "text": [
      "Vertical 1 13\n"
     ]
    },
    {
     "data": {
      "text/plain": [
       "    1 | 2 | 3 | 4 | 5 | 6 | 7 | 8 | 9 |10 |11 |12 |13 |14 |15 \n",
       "A >   |   |   |   | F |   |   |   | D |   |   |   |   |   |   <\n",
       "B >   |   |   |   | A |   |   | B | E | R | N | A | I | S |   <\n",
       "C >   |   | A |   | S |   |   |   | L |   |   |   |   | P |   <\n",
       "D >   |   | H | O | T |   |   |   | O |   |   |   |   | H |   <\n",
       "E >   |   |   | R | E |   |   |   | G |   |   |   |   | E |   <\n",
       "F >   |   | T | I | S | S | E | R | E | Z |   |   |   | X |   <\n",
       "G >   |   |   | Y |   |   |   |   | A |   |   |   |   |   |   <\n",
       "H >   |   |   | A | O | U | T | E | S |   |   |   |   |   |   <\n",
       "I >   |   |   | S |   |   |   |   |   |   |   |   |   |   |   <\n",
       "J >   |   |   |   |   |   |   |   |   |   |   |   |   |   |   <\n",
       "K >   |   |   |   |   |   |   |   |   |   |   |   |   |   |   <\n",
       "L >   |   |   |   |   |   |   |   |   |   |   |   |   |   |   <\n",
       "M >   |   |   |   |   |   |   |   |   |   |   |   |   |   |   <\n",
       "N >   |   |   |   |   |   |   |   |   |   |   |   |   |   |   <\n",
       "O >   |   |   |   |   |   |   |   |   |   |   |   |   |   |   <"
      ]
     },
     "execution_count": 10,
     "metadata": {},
     "output_type": "execute_result"
    }
   ],
   "source": [
    "# Moi\n",
    "b(\"14B\", \"sphex\")\n",
    "b"
   ]
  },
  {
   "cell_type": "code",
   "execution_count": 11,
   "metadata": {},
   "outputs": [
    {
     "name": "stdout",
     "output_type": "stream",
     "text": [
      "Vertical 4 12\n"
     ]
    },
    {
     "data": {
      "text/plain": [
       "    1 | 2 | 3 | 4 | 5 | 6 | 7 | 8 | 9 |10 |11 |12 |13 |14 |15 \n",
       "A >   |   |   |   | F |   |   |   | D |   |   |   |   |   |   <\n",
       "B >   |   |   |   | A |   |   | B | E | R | N | A | I | S |   <\n",
       "C >   |   | A |   | S |   |   |   | L |   |   |   |   | P |   <\n",
       "D >   |   | H | O | T |   |   |   | O |   |   |   |   | H |   <\n",
       "E >   |   |   | R | E |   |   |   | G |   |   |   | L | E |   <\n",
       "F >   |   | T | I | S | S | E | R | E | Z |   |   | E | X |   <\n",
       "G >   |   |   | Y |   |   |   |   | A |   |   |   | N |   |   <\n",
       "H >   |   |   | A | O | U | T | E | S |   |   |   | T |   |   <\n",
       "I >   |   |   | S |   |   |   |   |   |   |   |   |   |   |   <\n",
       "J >   |   |   |   |   |   |   |   |   |   |   |   |   |   |   <\n",
       "K >   |   |   |   |   |   |   |   |   |   |   |   |   |   |   <\n",
       "L >   |   |   |   |   |   |   |   |   |   |   |   |   |   |   <\n",
       "M >   |   |   |   |   |   |   |   |   |   |   |   |   |   |   <\n",
       "N >   |   |   |   |   |   |   |   |   |   |   |   |   |   |   <\n",
       "O >   |   |   |   |   |   |   |   |   |   |   |   |   |   |   <"
      ]
     },
     "execution_count": 11,
     "metadata": {},
     "output_type": "execute_result"
    }
   ],
   "source": [
    "# Maman\n",
    "b(\"13E\", \"lent\")\n",
    "# b.set_word(\"lent\", 4, 12, 1)\n",
    "b"
   ]
  },
  {
   "cell_type": "code",
   "execution_count": 13,
   "metadata": {},
   "outputs": [
    {
     "data": {
      "text/plain": [
       "[afp: 60 (C12),\n",
       " matif: 30 (H11),\n",
       " fatum: 30 (H11),\n",
       " mafia: 28 (12A),\n",
       " fetai: 27 (H11),\n",
       " fouie: 24 (D8),\n",
       " faim: 24 (12A),\n",
       " fame: 24 (12A),\n",
       " remiz: 23 (10B),\n",
       " metisserez: 22 (F1)]"
      ]
     },
     "execution_count": 13,
     "metadata": {},
     "output_type": "execute_result"
    }
   ],
   "source": [
    "letters = \"euaimuf\"\n",
    "sol = b.solve(letters)\n",
    "sol[:10]"
   ]
  },
  {
   "cell_type": "code",
   "execution_count": 12,
   "metadata": {},
   "outputs": [
    {
     "data": {
      "text/plain": [
       "    1 | 2 | 3 | 4 | 5 | 6 | 7 | 8 | 9 |10 |11 |12 |13 |14 |15 \n",
       "A >   |   |   |   | F |   |   |   | D |   |   |   |   |   |   <\n",
       "B >   |   |   |   | A |   |   | B | E | R | N | A | I | S |   <\n",
       "C >   |   | A |   | S |   |   |   | L |   |   |   |   | P |   <\n",
       "D >   |   | H | O | T |   |   |   | O |   |   |   |   | H |   <\n",
       "E >   |   |   | R | E |   |   |   | G |   |   |   | L | E |   <\n",
       "F >   |   | T | I | S | S | E | R | E | Z |   |   | E | X |   <\n",
       "G >   |   |   | Y |   |   |   |   | A |   |   |   | N |   |   <\n",
       "H >   |   |   | A | O | U | T | E | S |   | F | A | T | U | M <\n",
       "I >   |   |   | S |   |   |   |   |   |   |   |   |   |   |   <\n",
       "J >   |   |   |   |   |   |   |   |   |   |   |   |   |   |   <\n",
       "K >   |   |   |   |   |   |   |   |   |   |   |   |   |   |   <\n",
       "L >   |   |   |   |   |   |   |   |   |   |   |   |   |   |   <\n",
       "M >   |   |   |   |   |   |   |   |   |   |   |   |   |   |   <\n",
       "N >   |   |   |   |   |   |   |   |   |   |   |   |   |   |   <\n",
       "O >   |   |   |   |   |   |   |   |   |   |   |   |   |   |   <"
      ]
     },
     "execution_count": 12,
     "metadata": {},
     "output_type": "execute_result"
    }
   ],
   "source": [
    "# Moi\n",
    "b.set_word(\"fatum\", 7, 10, 0)\n",
    "b"
   ]
  },
  {
   "cell_type": "code",
   "execution_count": 13,
   "metadata": {},
   "outputs": [
    {
     "data": {
      "text/plain": [
       "    1 | 2 | 3 | 4 | 5 | 6 | 7 | 8 | 9 |10 |11 |12 |13 |14 |15 \n",
       "A >   |   |   |   | F |   |   |   | D |   |   | J |   |   |   <\n",
       "B >   |   |   |   | A |   |   | B | E | R | N | A | I | S |   <\n",
       "C >   |   | A |   | S |   |   |   | L |   |   | R |   | P |   <\n",
       "D >   |   | H | O | T |   |   |   | O |   |   | S |   | H |   <\n",
       "E >   |   |   | R | E |   |   |   | G |   |   |   | L | E |   <\n",
       "F >   |   | T | I | S | S | E | R | E | Z |   |   | E | X |   <\n",
       "G >   |   |   | Y |   |   |   |   | A |   |   |   | N |   |   <\n",
       "H >   |   |   | A | O | U | T | E | S |   | F | A | T | U | M <\n",
       "I >   |   |   | S |   |   |   |   |   |   |   |   |   |   |   <\n",
       "J >   |   |   |   |   |   |   |   |   |   |   |   |   |   |   <\n",
       "K >   |   |   |   |   |   |   |   |   |   |   |   |   |   |   <\n",
       "L >   |   |   |   |   |   |   |   |   |   |   |   |   |   |   <\n",
       "M >   |   |   |   |   |   |   |   |   |   |   |   |   |   |   <\n",
       "N >   |   |   |   |   |   |   |   |   |   |   |   |   |   |   <\n",
       "O >   |   |   |   |   |   |   |   |   |   |   |   |   |   |   <"
      ]
     },
     "execution_count": 13,
     "metadata": {},
     "output_type": "execute_result"
    }
   ],
   "source": [
    "# Maman\n",
    "b.set_word(\"jars\", 0, 11, 1)\n",
    "b"
   ]
  },
  {
   "cell_type": "code",
   "execution_count": 14,
   "metadata": {},
   "outputs": [
    {
     "data": {
      "text/plain": [
       "[wale: 29 (C7),\n",
       " wali: 29 (C7),\n",
       " news: 23 (I1),\n",
       " twin: 23 (7H),\n",
       " won: 22 (D8),\n",
       " retisserez: 21 (F1),\n",
       " ratisserez: 21 (F1),\n",
       " sphex: 19 (14B),\n",
       " farine: 18 (11H),\n",
       " faneur: 18 (11H)]"
      ]
     },
     "execution_count": 14,
     "metadata": {},
     "output_type": "execute_result"
    }
   ],
   "source": [
    "letters = \"euiarnw\"\n",
    "sol = b.solve(letters)\n",
    "sol[:10]"
   ]
  },
  {
   "cell_type": "code",
   "execution_count": 15,
   "metadata": {},
   "outputs": [
    {
     "name": "stdout",
     "output_type": "stream",
     "text": [
      "Horizontal 3 7\n"
     ]
    },
    {
     "data": {
      "text/plain": [
       "    1 | 2 | 3 | 4 | 5 | 6 | 7 | 8 | 9 |10 |11 |12 |13 |14 |15 \n",
       "A >   |   |   |   | F |   |   |   | D |   |   | J |   |   |   <\n",
       "B >   |   |   |   | A |   |   | B | E | R | N | A | I | S |   <\n",
       "C >   |   | A |   | S |   |   |   | L |   |   | R |   | P |   <\n",
       "D >   |   | H | O | T |   |   | W | O | N |   | S |   | H |   <\n",
       "E >   |   |   | R | E |   |   |   | G |   |   |   | L | E |   <\n",
       "F >   |   | T | I | S | S | E | R | E | Z |   |   | E | X |   <\n",
       "G >   |   |   | Y |   |   |   |   | A |   |   |   | N |   |   <\n",
       "H >   |   |   | A | O | U | T | E | S |   | F | A | T | U | M <\n",
       "I >   |   |   | S |   |   |   |   |   |   |   |   |   |   |   <\n",
       "J >   |   |   |   |   |   |   |   |   |   |   |   |   |   |   <\n",
       "K >   |   |   |   |   |   |   |   |   |   |   |   |   |   |   <\n",
       "L >   |   |   |   |   |   |   |   |   |   |   |   |   |   |   <\n",
       "M >   |   |   |   |   |   |   |   |   |   |   |   |   |   |   <\n",
       "N >   |   |   |   |   |   |   |   |   |   |   |   |   |   |   <\n",
       "O >   |   |   |   |   |   |   |   |   |   |   |   |   |   |   <"
      ]
     },
     "execution_count": 15,
     "metadata": {},
     "output_type": "execute_result"
    }
   ],
   "source": [
    "# Moi\n",
    "b(\"D8\", \"won\")\n",
    "b"
   ]
  },
  {
   "cell_type": "code",
   "execution_count": 17,
   "metadata": {},
   "outputs": [
    {
     "data": {
      "text/plain": [
       "    1 | 2 | 3 | 4 | 5 | 6 | 7 | 8 | 9 |10 |11 |12 |13 |14 |15 \n",
       "A >   |   |   |   | F |   |   |   | D |   |   | J |   |   |   <\n",
       "B >   |   |   |   | A |   |   | B | E | R | N | A | I | S |   <\n",
       "C >   |   | A |   | S |   |   |   | L |   |   | R |   | P |   <\n",
       "D >   |   | H | O | T |   |   | W | O | N |   | S |   | H |   <\n",
       "E >   |   |   | R | E |   |   |   | G |   |   |   | L | E |   <\n",
       "F >   |   | T | I | S | S | E | R | E | Z |   |   | E | X |   <\n",
       "G >   |   |   | Y |   |   |   |   | A |   |   |   | N |   |   <\n",
       "H >   |   |   | A | O | U | T | E | S |   | F | A | T | U | M <\n",
       "I >   |   |   | S |   |   |   |   |   |   | E |   |   |   |   <\n",
       "J >   |   |   |   |   |   |   |   |   |   | L |   |   |   |   <\n",
       "K >   |   |   |   |   |   |   |   |   |   | O |   |   |   |   <\n",
       "L >   |   |   |   |   |   |   |   |   |   | N |   |   |   |   <\n",
       "M >   |   |   |   |   |   |   |   |   |   |   |   |   |   |   <\n",
       "N >   |   |   |   |   |   |   |   |   |   |   |   |   |   |   <\n",
       "O >   |   |   |   |   |   |   |   |   |   |   |   |   |   |   <"
      ]
     },
     "execution_count": 17,
     "metadata": {},
     "output_type": "execute_result"
    }
   ],
   "source": [
    "# Maman\n",
    "b.set_word(\"felon\", 7, 10, 1)\n",
    "b"
   ]
  },
  {
   "cell_type": "code",
   "execution_count": 18,
   "metadata": {},
   "outputs": [
    {
     "name": "stdout",
     "output_type": "stream",
     "text": [
      "Error on line > |n| | | | | |f|e|l|o|n| | | <\n"
     ]
    },
    {
     "data": {
      "text/plain": [
       "[verifia: 42 (A1),\n",
       " verif: 36 (A1),\n",
       " revif: 36 (A1),\n",
       " aurifie: 33 (A1),\n",
       " ervy: 29 (G1),\n",
       " veinai: 26 (L8),\n",
       " vaine: 24 (L8),\n",
       " veina: 24 (L8),\n",
       " verni: 24 (L8),\n",
       " vinaire: 22 (L9)]"
      ]
     },
     "execution_count": 18,
     "metadata": {},
     "output_type": "execute_result"
    }
   ],
   "source": [
    "letters = \"euivria\"\n",
    "sol = b.solve(letters)\n",
    "sol[:10]"
   ]
  },
  {
   "cell_type": "code",
   "execution_count": 19,
   "metadata": {},
   "outputs": [
    {
     "name": "stdout",
     "output_type": "stream",
     "text": [
      "Horizontal 0 0\n"
     ]
    },
    {
     "data": {
      "text/plain": [
       "    1 | 2 | 3 | 4 | 5 | 6 | 7 | 8 | 9 |10 |11 |12 |13 |14 |15 \n",
       "A > V | E | R | I | F | I | A |   | D |   |   | J |   |   |   <\n",
       "B >   |   |   |   | A |   |   | B | E | R | N | A | I | S |   <\n",
       "C >   |   | A |   | S |   |   |   | L |   |   | R |   | P |   <\n",
       "D >   |   | H | O | T |   |   | W | O | N |   | S |   | H |   <\n",
       "E >   |   |   | R | E |   |   |   | G |   |   |   | L | E |   <\n",
       "F >   |   | T | I | S | S | E | R | E | Z |   |   | E | X |   <\n",
       "G >   |   |   | Y |   |   |   |   | A |   |   |   | N |   |   <\n",
       "H >   |   |   | A | O | U | T | E | S |   | F | A | T | U | M <\n",
       "I >   |   |   | S |   |   |   |   |   |   | E |   |   |   |   <\n",
       "J >   |   |   |   |   |   |   |   |   |   | L |   |   |   |   <\n",
       "K >   |   |   |   |   |   |   |   |   |   | O |   |   |   |   <\n",
       "L >   |   |   |   |   |   |   |   |   |   | N |   |   |   |   <\n",
       "M >   |   |   |   |   |   |   |   |   |   |   |   |   |   |   <\n",
       "N >   |   |   |   |   |   |   |   |   |   |   |   |   |   |   <\n",
       "O >   |   |   |   |   |   |   |   |   |   |   |   |   |   |   <"
      ]
     },
     "execution_count": 19,
     "metadata": {},
     "output_type": "execute_result"
    }
   ],
   "source": [
    "# Moi\n",
    "b(\"A1\", \"verifia\")\n",
    "b"
   ]
  },
  {
   "cell_type": "code",
   "execution_count": 20,
   "metadata": {},
   "outputs": [
    {
     "data": {
      "text/plain": [
       "    1 | 2 | 3 | 4 | 5 | 6 | 7 | 8 | 9 |10 |11 |12 |13 |14 |15 \n",
       "A > V | E | R | I | F | I | A |   | D |   |   | J |   |   |   <\n",
       "B >   |   |   |   | A |   |   | B | E | R | N | A | I | S |   <\n",
       "C >   |   | A |   | S |   |   |   | L |   |   | R |   | P |   <\n",
       "D >   |   | H | O | T |   |   | W | O | N |   | S |   | H |   <\n",
       "E >   |   |   | R | E |   |   |   | G |   |   |   | L | E |   <\n",
       "F >   |   | T | I | S | S | E | R | E | Z |   |   | E | X |   <\n",
       "G >   |   |   | Y |   |   |   |   | A |   |   |   | N |   |   <\n",
       "H >   |   |   | A | O | U | T | E | S |   | F | A | T | U | M <\n",
       "I >   |   |   | S |   |   |   |   |   |   | E |   |   |   |   <\n",
       "J >   |   |   |   |   |   |   |   |   |   | L |   |   |   |   <\n",
       "K >   |   |   |   |   |   |   |   |   |   | O |   |   |   |   <\n",
       "L >   |   |   |   |   |   | I | M | P | U | N | I |   |   |   <\n",
       "M >   |   |   |   |   |   |   |   |   |   |   |   |   |   |   <\n",
       "N >   |   |   |   |   |   |   |   |   |   |   |   |   |   |   <\n",
       "O >   |   |   |   |   |   |   |   |   |   |   |   |   |   |   <"
      ]
     },
     "execution_count": 20,
     "metadata": {},
     "output_type": "execute_result"
    }
   ],
   "source": [
    "# Maman\n",
    "b.set_word(\"impuni\", 11, 6, 0)\n",
    "b"
   ]
  },
  {
   "cell_type": "code",
   "execution_count": 21,
   "metadata": {},
   "outputs": [
    {
     "name": "stdout",
     "output_type": "stream",
     "text": [
      "Error on line > |n| | | | | |f|e|l|o|n| | | <\n"
     ]
    },
    {
     "data": {
      "text/plain": [
       "[ervy: 29 (G1),\n",
       " bavure: 28 (10I),\n",
       " vaguer: 26 (10I),\n",
       " ambre: 24 (8K),\n",
       " embua: 24 (8K),\n",
       " baguer: 24 (10I),\n",
       " vague: 23 (10I),\n",
       " ratisserez: 21 (F1),\n",
       " retisserez: 21 (F1),\n",
       " verbal: 21 (J6)]"
      ]
     },
     "execution_count": 21,
     "metadata": {},
     "output_type": "execute_result"
    }
   ],
   "source": [
    "letters = \"baegvru\"\n",
    "sol = b.solve(letters)\n",
    "sol[:10]"
   ]
  },
  {
   "cell_type": "code",
   "execution_count": 22,
   "metadata": {},
   "outputs": [
    {
     "data": {
      "text/plain": [
       "    1 | 2 | 3 | 4 | 5 | 6 | 7 | 8 | 9 |10 |11 |12 |13 |14 |15 \n",
       "A > V | E | R | I | F | I | A |   | D |   |   | J |   |   |   <\n",
       "B >   |   |   |   | A |   |   | B | E | R | N | A | I | S |   <\n",
       "C >   |   | A |   | S |   |   |   | L |   |   | R |   | P |   <\n",
       "D >   |   | H | O | T |   |   | W | O | N |   | S |   | H |   <\n",
       "E >   |   |   | R | E |   |   |   | G |   |   |   | L | E |   <\n",
       "F >   |   | T | I | S | S | E | R | E | Z |   |   | E | X |   <\n",
       "G >   |   |   | Y |   |   |   |   | A |   |   |   | N |   |   <\n",
       "H >   |   |   | A | O | U | T | E | S |   | F | A | T | U | M <\n",
       "I >   |   |   | S |   |   |   |   |   |   | E |   |   |   |   <\n",
       "J >   |   |   |   |   |   |   |   |   |   | L |   |   |   |   <\n",
       "K >   |   |   |   |   |   |   | A |   |   | O |   |   |   |   <\n",
       "L >   |   |   |   |   |   | I | M | P | U | N | I |   |   |   <\n",
       "M >   |   |   |   |   |   |   | B |   |   |   |   |   |   |   <\n",
       "N >   |   |   |   |   |   |   | R |   |   |   |   |   |   |   <\n",
       "O >   |   |   |   |   |   |   | E |   |   |   |   |   |   |   <"
      ]
     },
     "execution_count": 22,
     "metadata": {},
     "output_type": "execute_result"
    }
   ],
   "source": [
    "# Moi\n",
    "b.set_word(\"ambre\", 10, 7, 1)\n",
    "b"
   ]
  },
  {
   "cell_type": "code",
   "execution_count": 23,
   "metadata": {},
   "outputs": [
    {
     "data": {
      "text/plain": [
       "    1 | 2 | 3 | 4 | 5 | 6 | 7 | 8 | 9 |10 |11 |12 |13 |14 |15 \n",
       "A > V | E | R | I | F | I | A |   | D |   |   | J |   |   |   <\n",
       "B >   |   |   |   | A |   |   | B | E | R | N | A | I | S |   <\n",
       "C >   |   | A |   | S |   |   |   | L |   |   | R |   | P |   <\n",
       "D >   |   | H | O | T |   |   | W | O | N |   | S |   | H |   <\n",
       "E >   |   |   | R | E |   |   |   | G |   |   |   | L | E |   <\n",
       "F >   |   | T | I | S | S | E | R | E | Z |   |   | E | X |   <\n",
       "G >   |   |   | Y |   |   |   |   | A |   |   |   | N |   |   <\n",
       "H >   |   |   | A | O | U | T | E | S |   | F | A | T | U | M <\n",
       "I >   |   |   | S |   |   |   |   |   |   | E |   |   |   |   <\n",
       "J >   |   |   |   |   |   |   |   |   |   | L |   |   |   |   <\n",
       "K >   |   |   |   |   |   |   | A |   |   | O |   |   |   |   <\n",
       "L >   |   |   |   |   |   | I | M | P | U | N | I |   |   |   <\n",
       "M >   |   |   |   |   |   |   | B |   |   |   |   |   |   |   <\n",
       "N >   |   |   |   |   |   |   | R |   |   |   |   |   |   |   <\n",
       "O >   |   | D | E | N | O | U | E | N | T |   |   |   |   |   <"
      ]
     },
     "execution_count": 23,
     "metadata": {},
     "output_type": "execute_result"
    }
   ],
   "source": [
    "# Maman\n",
    "b.set_word(\"denouent\", 14, 2, 0)\n",
    "b"
   ]
  },
  {
   "cell_type": "code",
   "execution_count": 24,
   "metadata": {},
   "outputs": [
    {
     "data": {
      "text/plain": [
       "[cuver: 39 (N4),\n",
       " ver: 29 (N6),\n",
       " teke: 26 (4K),\n",
       " teks: 23 (I1),\n",
       " cuvee: 20 (4J),\n",
       " vecue: 20 (4J),\n",
       " sphex: 19 (14B),\n",
       " etc: 18 (2A),\n",
       " cuve: 18 (4K),\n",
       " tisserez: 17 (F3)]"
      ]
     },
     "execution_count": 24,
     "metadata": {},
     "output_type": "execute_result"
    }
   ],
   "source": [
    "letters = \"etkgvcu\"\n",
    "sol = b.solve(letters)\n",
    "sol[:10]"
   ]
  },
  {
   "cell_type": "code",
   "execution_count": 25,
   "metadata": {},
   "outputs": [
    {
     "name": "stdout",
     "output_type": "stream",
     "text": [
      "Horizontal 8 0\n"
     ]
    },
    {
     "data": {
      "text/plain": [
       "    1 | 2 | 3 | 4 | 5 | 6 | 7 | 8 | 9 |10 |11 |12 |13 |14 |15 \n",
       "A > V | E | R | I | F | I | A |   | D |   |   | J |   |   |   <\n",
       "B >   |   |   |   | A |   |   | B | E | R | N | A | I | S |   <\n",
       "C >   |   | A |   | S |   |   |   | L |   |   | R |   | P |   <\n",
       "D >   |   | H | O | T |   |   | W | O | N |   | S |   | H |   <\n",
       "E >   |   |   | R | E |   |   |   | G |   |   |   | L | E |   <\n",
       "F >   |   | T | I | S | S | E | R | E | Z |   |   | E | X |   <\n",
       "G >   |   |   | Y |   |   |   |   | A |   |   |   | N |   |   <\n",
       "H >   |   |   | A | O | U | T | E | S |   | F | A | T | U | M <\n",
       "I > T | E | K | S |   |   |   |   |   |   | E |   |   |   |   <\n",
       "J >   |   |   |   |   |   |   |   |   |   | L |   |   |   |   <\n",
       "K >   |   |   |   |   |   |   | A |   |   | O |   |   |   |   <\n",
       "L >   |   |   |   |   |   | I | M | P | U | N | I |   |   |   <\n",
       "M >   |   |   |   |   |   |   | B |   |   |   |   |   |   |   <\n",
       "N >   |   |   |   |   |   |   | R |   |   |   |   |   |   |   <\n",
       "O >   |   | D | E | N | O | U | E | N | T |   |   |   |   |   <"
      ]
     },
     "execution_count": 25,
     "metadata": {},
     "output_type": "execute_result"
    }
   ],
   "source": [
    "b(\"I1\", \"teks\")\n",
    "b"
   ]
  },
  {
   "cell_type": "code",
   "execution_count": 26,
   "metadata": {},
   "outputs": [
    {
     "name": "stdout",
     "output_type": "stream",
     "text": [
      "Vertical 8 0\n"
     ]
    },
    {
     "data": {
      "text/plain": [
       "    1 | 2 | 3 | 4 | 5 | 6 | 7 | 8 | 9 |10 |11 |12 |13 |14 |15 \n",
       "A > V | E | R | I | F | I | A |   | D |   |   | J |   |   |   <\n",
       "B >   |   |   |   | A |   |   | B | E | R | N | A | I | S |   <\n",
       "C >   |   | A |   | S |   |   |   | L |   |   | R |   | P |   <\n",
       "D >   |   | H | O | T |   |   | W | O | N |   | S |   | H |   <\n",
       "E >   |   |   | R | E |   |   |   | G |   |   |   | L | E |   <\n",
       "F >   |   | T | I | S | S | E | R | E | Z |   |   | E | X |   <\n",
       "G >   |   |   | Y |   |   |   |   | A |   |   |   | N |   |   <\n",
       "H >   |   |   | A | O | U | T | E | S |   | F | A | T | U | M <\n",
       "I > T | E | K | S |   |   |   |   |   |   | E |   |   |   |   <\n",
       "J > E |   |   |   |   |   |   |   |   |   | L |   |   |   |   <\n",
       "K > Q |   |   |   |   |   |   | A |   |   | O |   |   |   |   <\n",
       "L > U |   |   |   |   |   | I | M | P | U | N | I |   |   |   <\n",
       "M > I |   |   |   |   |   |   | B |   |   |   |   |   |   |   <\n",
       "N > L |   |   |   |   |   |   | R |   |   |   |   |   |   |   <\n",
       "O > A |   | D | E | N | O | U | E | N | T |   |   |   |   |   <"
      ]
     },
     "execution_count": 26,
     "metadata": {},
     "output_type": "execute_result"
    }
   ],
   "source": [
    "# Maman\n",
    "b(\"1I\", \"tequila\")\n",
    "b"
   ]
  },
  {
   "cell_type": "code",
   "execution_count": 27,
   "metadata": {},
   "outputs": [
    {
     "name": "stdout",
     "output_type": "stream",
     "text": [
      "Error on line >a| |d|e|n|o|u|e|n|t| | | | | <\n"
     ]
    },
    {
     "data": {
      "text/plain": [
       "[cueva: 24 (K3),\n",
       " cuva: 22 (K4),\n",
       " cigue: 21 (10I),\n",
       " vecue: 20 (4J),\n",
       " cuvee: 20 (4J),\n",
       " sphex: 19 (14B),\n",
       " cil: 18 (J8),\n",
       " cul: 18 (J8),\n",
       " vigee: 18 (4J),\n",
       " vice: 18 (4K)]"
      ]
     },
     "execution_count": 27,
     "metadata": {},
     "output_type": "execute_result"
    }
   ],
   "source": [
    "letters = \"eeigvcu\"\n",
    "sol = b.solve(letters)\n",
    "sol[:10]"
   ]
  },
  {
   "cell_type": "code",
   "execution_count": 28,
   "metadata": {},
   "outputs": [
    {
     "data": {
      "text/plain": [
       "    1 | 2 | 3 | 4 | 5 | 6 | 7 | 8 | 9 |10 |11 |12 |13 |14 |15 \n",
       "A > V | E | R | I | F | I | A |   | D |   |   | J |   |   |   <\n",
       "B >   |   |   |   | A |   |   | B | E | R | N | A | I | S |   <\n",
       "C >   |   | A |   | S |   |   |   | L |   |   | R |   | P |   <\n",
       "D >   |   | H | O | T |   |   | W | O | N |   | S |   | H |   <\n",
       "E >   |   |   | R | E |   |   |   | G |   |   |   | L | E |   <\n",
       "F >   |   | T | I | S | S | E | R | E | Z |   |   | E | X |   <\n",
       "G >   |   |   | Y |   |   |   |   | A |   |   |   | N |   |   <\n",
       "H >   |   |   | A | O | U | T | E | S |   | F | A | T | U | M <\n",
       "I > T | E | K | S |   |   |   |   |   | C | E |   |   |   |   <\n",
       "J > E |   |   |   |   |   |   |   |   | I | L |   |   |   |   <\n",
       "K > Q |   |   |   |   |   |   | A |   | G | O |   |   |   |   <\n",
       "L > U |   |   |   |   |   | I | M | P | U | N | I |   |   |   <\n",
       "M > I |   |   |   |   |   |   | B |   | E |   |   |   |   |   <\n",
       "N > L |   |   |   |   |   |   | R |   |   |   |   |   |   |   <\n",
       "O > A |   | D | E | N | O | U | E | N | T |   |   |   |   |   <"
      ]
     },
     "execution_count": 28,
     "metadata": {},
     "output_type": "execute_result"
    }
   ],
   "source": [
    "# Moi\n",
    "b.set_word(\"cigue\", 8, 9, 1)\n",
    "b"
   ]
  },
  {
   "cell_type": "code",
   "execution_count": 29,
   "metadata": {},
   "outputs": [
    {
     "data": {
      "text/plain": [
       "    1 | 2 | 3 | 4 | 5 | 6 | 7 | 8 | 9 |10 |11 |12 |13 |14 |15 \n",
       "A > V | E | R | I | F | I | A |   | D |   |   | J |   |   |   <\n",
       "B >   |   |   |   | A |   |   | B | E | R | N | A | I | S |   <\n",
       "C >   |   | A |   | S |   |   |   | L |   |   | R |   | P |   <\n",
       "D >   |   | H | O | T |   |   | W | O | N |   | S |   | H |   <\n",
       "E >   |   |   | R | E |   |   |   | G |   |   |   | L | E |   <\n",
       "F >   |   | T | I | S | S | E | R | E | Z |   |   | E | X |   <\n",
       "G >   |   |   | Y |   |   |   |   | A |   |   |   | N |   |   <\n",
       "H >   |   |   | A | O | U | T | E | S |   | F | A | T | U | M <\n",
       "I > T | E | K | S |   |   |   |   |   | C | E |   |   |   |   <\n",
       "J > E |   |   |   |   |   |   |   |   | I | L |   |   |   |   <\n",
       "K > Q |   |   |   |   |   |   | A |   | G | O |   | D |   |   <\n",
       "L > U |   |   |   |   |   | I | M | P | U | N | I | E |   |   <\n",
       "M > I |   |   |   |   |   |   | B |   | E |   |   | C |   |   <\n",
       "N > L |   |   |   |   |   |   | R |   |   |   |   | O |   |   <\n",
       "O > A |   | D | E | N | O | U | E | N | T |   |   |   |   |   <"
      ]
     },
     "execution_count": 29,
     "metadata": {},
     "output_type": "execute_result"
    }
   ],
   "source": [
    "# Maman\n",
    "b.set_word(\"deco\", 10, 12, 1)\n",
    "b"
   ]
  },
  {
   "cell_type": "code",
   "execution_count": 30,
   "metadata": {},
   "outputs": [
    {
     "name": "stdout",
     "output_type": "stream",
     "text": [
      "Error on line >a| |d|e|n|o|u|e|n|t| | | | | <\n"
     ]
    },
    {
     "data": {
      "text/plain": [
       "[sphex: 19 (14B),\n",
       " tisserez: 17 (F3),\n",
       " vexe: 16 (F12),\n",
       " eus: 15 (6C),\n",
       " uvee: 14 (4K),\n",
       " teks: 13 (I1),\n",
       " won: 12 (D8),\n",
       " ive: 12 (M1),\n",
       " leu: 12 (N1),\n",
       " vue: 12 (4L)]"
      ]
     },
     "execution_count": 30,
     "metadata": {},
     "output_type": "execute_result"
    }
   ],
   "source": [
    "letters = \"evu\"\n",
    "sol = b.solve(letters)\n",
    "sol[:10]"
   ]
  },
  {
   "cell_type": "code",
   "execution_count": 32,
   "metadata": {},
   "outputs": [
    {
     "data": {
      "text/plain": [
       "    1 | 2 | 3 | 4 | 5 | 6 | 7 | 8 | 9 |10 |11 |12 |13 |14 |15 \n",
       "A > V | E | R | I | F | I | A |   | D |   |   | J |   |   |   <\n",
       "B >   |   |   |   | A |   |   | B | E | R | N | A | I | S |   <\n",
       "C >   |   | A |   | S |   |   |   | L |   |   | R |   | P |   <\n",
       "D >   |   | H | O | T |   |   | W | O | N |   | S |   | H |   <\n",
       "E >   |   |   | R | E |   |   |   | G |   |   |   | L | E |   <\n",
       "F >   |   | T | I | S | S | E | R | E | Z |   | V | E | X | E <\n",
       "G >   |   |   | Y |   |   |   |   | A |   |   |   | N |   |   <\n",
       "H >   |   |   | A | O | U | T | E | S |   | F | A | T | U | M <\n",
       "I > T | E | K | S |   |   |   |   |   | C | E |   |   |   |   <\n",
       "J > E |   |   |   |   |   |   |   |   | I | L |   |   |   |   <\n",
       "K > Q |   |   |   |   |   |   | A |   | G | O |   | D |   |   <\n",
       "L > U |   |   |   |   |   | I | M | P | U | N | I | E |   |   <\n",
       "M > I |   |   |   |   |   |   | B |   | E |   |   | C |   |   <\n",
       "N > L |   |   |   |   |   |   | R |   |   |   |   | O |   |   <\n",
       "O > A |   | D | E | N | O | U | E | N | T |   |   |   |   |   <"
      ]
     },
     "execution_count": 32,
     "metadata": {},
     "output_type": "execute_result"
    }
   ],
   "source": [
    "# Moi\n",
    "b.set_word(\"vexe\", 5, 11, 0)\n",
    "b"
   ]
  },
  {
   "cell_type": "code",
   "execution_count": 33,
   "metadata": {},
   "outputs": [
    {
     "data": {
      "text/plain": [
       "    1 | 2 | 3 | 4 | 5 | 6 | 7 | 8 | 9 |10 |11 |12 |13 |14 |15 \n",
       "A > V | E | R | I | F | I | A |   | D |   |   | J |   |   |   <\n",
       "B >   |   |   |   | A |   |   | B | E | R | N | A | I | S |   <\n",
       "C >   |   | A |   | S |   |   |   | L |   |   | R |   | P |   <\n",
       "D >   |   | H | O | T |   |   | W | O | N |   | S |   | H |   <\n",
       "E >   |   |   | R | E |   |   |   | G |   |   |   | L | E |   <\n",
       "F >   |   | T | I | S | S | E | R | E | Z |   | V | E | X | E <\n",
       "G >   |   |   | Y |   |   |   |   | A |   |   |   | N |   |   <\n",
       "H >   |   |   | A | O | U | T | E | S |   | F | A | T | U | M <\n",
       "I > T | E | K | S |   |   |   |   |   | C | E |   |   |   |   <\n",
       "J > E |   |   |   |   |   |   |   |   | I | L |   |   |   |   <\n",
       "K > Q |   |   |   |   |   |   | A |   | G | O |   | D |   |   <\n",
       "L > U |   |   |   |   |   | I | M | P | U | N | I | E |   |   <\n",
       "M > I |   |   |   |   |   |   | B |   | E |   |   | C |   |   <\n",
       "N > L |   |   |   |   |   |   | R |   |   |   | M | O | L |   <\n",
       "O > A |   | D | E | N | O | U | E | N | T |   |   |   |   |   <"
      ]
     },
     "execution_count": 33,
     "metadata": {},
     "output_type": "execute_result"
    }
   ],
   "source": [
    "# Maman\n",
    "b.set_word(\"mol\", 13, 11, 0)\n",
    "b"
   ]
  }
 ],
 "metadata": {
  "kernelspec": {
   "display_name": "Python 3",
   "language": "python",
   "name": "python3"
  },
  "language_info": {
   "codemirror_mode": {
    "name": "ipython",
    "version": 3
   },
   "file_extension": ".py",
   "mimetype": "text/x-python",
   "name": "python",
   "nbconvert_exporter": "python",
   "pygments_lexer": "ipython3",
   "version": "3.8.2"
  },
  "orig_nbformat": 4
 },
 "nbformat": 4,
 "nbformat_minor": 2
}
